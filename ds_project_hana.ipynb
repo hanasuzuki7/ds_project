{
 "cells": [
  {
   "cell_type": "code",
   "execution_count": null,
   "id": "85fd8917-2655-44af-865e-e6449b037e29",
   "metadata": {},
   "outputs": [],
   "source": []
  }
 ],
 "metadata": {
  "kernelspec": {
   "display_name": "R",
   "language": "R",
   "name": "ir"
  },
  "language_info": {
   "codemirror_mode": "r",
   "file_extension": ".r",
   "mimetype": "text/x-r-source",
   "name": "R",
   "pygments_lexer": "r",
   "version": "4.3.3"
  }
 },
 "nbformat": 4,
 "nbformat_minor": 5
}
