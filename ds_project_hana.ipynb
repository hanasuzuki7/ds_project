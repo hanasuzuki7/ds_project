{
 "cells": [
  {
   "cell_type": "markdown",
   "id": "58004d24-c642-4c72-99ec-5e2351f7bcce",
   "metadata": {},
   "source": [
    "# Predicting Usage of a Video Game Research Server"
   ]
  },
  {
   "cell_type": "markdown",
   "id": "118db284-ecce-4cd6-8173-cc17133d263b",
   "metadata": {},
   "source": [
    "## Introduction:"
   ]
  },
  {
   "cell_type": "markdown",
   "id": "80a83f92-c71d-4b00-bcef-936935828ce0",
   "metadata": {},
   "source": [
    "### Background:\n",
    "    "
   ]
  },
  {
   "cell_type": "markdown",
   "id": "eefc4c83-8dc3-4ae9-89f3-246de7ba2c0f",
   "metadata": {},
   "source": [
    "### Question:"
   ]
  },
  {
   "cell_type": "markdown",
   "id": "2e5b33a7-1166-44f1-a60a-2228cda7dd47",
   "metadata": {},
   "source": [
    "### Data Description:"
   ]
  },
  {
   "cell_type": "markdown",
   "id": "cc0afd50-5bec-428b-aa77-b8a144451d32",
   "metadata": {},
   "source": [
    "## Methods and Results:"
   ]
  },
  {
   "cell_type": "markdown",
   "id": "3e20c049-08cb-49f3-9d4e-8336b7b0de67",
   "metadata": {},
   "source": [
    "### Methods"
   ]
  }
 ],
 "metadata": {
  "kernelspec": {
   "display_name": "R",
   "language": "R",
   "name": "ir"
  },
  "language_info": {
   "codemirror_mode": "r",
   "file_extension": ".r",
   "mimetype": "text/x-r-source",
   "name": "R",
   "pygments_lexer": "r",
   "version": "4.3.3"
  }
 },
 "nbformat": 4,
 "nbformat_minor": 5
}
